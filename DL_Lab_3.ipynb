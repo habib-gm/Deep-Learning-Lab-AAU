{
  "nbformat": 4,
  "nbformat_minor": 0,
  "metadata": {
    "colab": {
      "provenance": [],
      "include_colab_link": true
    },
    "kernelspec": {
      "name": "python3",
      "display_name": "Python 3"
    },
    "language_info": {
      "name": "python"
    }
  },
  "cells": [
    {
      "cell_type": "markdown",
      "metadata": {
        "id": "view-in-github",
        "colab_type": "text"
      },
      "source": [
        "<a href=\"https://colab.research.google.com/github/habib-gm/Deep-Learning-Lab-AAU/blob/master/DL_Lab_3.ipynb\" target=\"_parent\"><img src=\"https://colab.research.google.com/assets/colab-badge.svg\" alt=\"Open In Colab\"/></a>"
      ]
    },
    {
      "cell_type": "code",
      "execution_count": 12,
      "metadata": {
        "id": "PKuE5D1Z6hZ8"
      },
      "outputs": [],
      "source": [
        "import torch"
      ]
    },
    {
      "cell_type": "code",
      "source": [
        "class DenseLayer:\n",
        "  def __init__(self, n_inputs, n_neurons):\n",
        "    self.weight = 0.01 * torch.rand((n_neurons,n_inputs))\n",
        "    self.bias = torch.zeros((1,n_neurons))\n",
        "\n",
        "  def forward(self, inputs):\n",
        "    self.output = torch.matmul(inputs, self.weight.T) + self.bias\n",
        "    return self.output"
      ],
      "metadata": {
        "id": "7WBXyxhzCLvu"
      },
      "execution_count": 13,
      "outputs": []
    },
    {
      "cell_type": "code",
      "source": [
        "class ActivationSigmoid:\n",
        "    def forward(self, inputs):\n",
        "        sigmoid_values = 1 / (1 + torch.exp(-inputs))\n",
        "        self.output = sigmoid_values\n",
        "        return self.output\n",
        "class ActivationReLU:\n",
        "    def forward(self, inputs):\n",
        "        self.output = torch.max(torch.tensor(0), inputs)\n",
        "        return self.output\n",
        "class ActivationSoftmax:\n",
        "    def forward(self, inputs):\n",
        "        exp_values = torch.exp(inputs - torch.max(inputs, axis=1, keepdim=True).values)\n",
        "        probabilities = exp_values / torch.sum(exp_values, axis=1, keepdim=True)\n",
        "        self.output = probabilities\n",
        "        return self.output"
      ],
      "metadata": {
        "id": "Rld3YqDo48LS"
      },
      "execution_count": 14,
      "outputs": []
    },
    {
      "cell_type": "code",
      "source": [
        "def calculate_accuracy(softmax_outputs, class_targets):\n",
        "    predicted_classes = torch.argmax(softmax_outputs, dim=1)\n",
        "    if class_targets.dim() == 2:\n",
        "        class_targets = torch.argmax(class_targets, dim=1)\n",
        "\n",
        "    accuracy = torch.mean((predicted_classes == class_targets).float()).item()\n",
        "    return accuracy"
      ],
      "metadata": {
        "id": "Pkz6aHbhfxhz"
      },
      "execution_count": 15,
      "outputs": []
    },
    {
      "cell_type": "code",
      "source": [
        "class Loss_CategoricalCrossentropy():\n",
        "    def calculate(self, output, y):\n",
        "        sample_losses = self._compute_sample_losses(output, y)\n",
        "        data_loss = torch.mean(sample_losses)\n",
        "        return data_loss.item()\n",
        "\n",
        "    def _compute_sample_losses(self, y_pred, y_true):\n",
        "        y_pred_clipped = torch.clamp(y_pred, 1e-7, 1 - 1e-7)\n",
        "        correct_confidences = self._get_correct_confidences(y_pred_clipped, y_true)\n",
        "        negative_log_likelihoods = -torch.log(correct_confidences)\n",
        "        return negative_log_likelihoods\n",
        "\n",
        "    def _get_correct_confidences(self, y_pred_clipped, y_true):\n",
        "        if len(y_true.size()) == 1:\n",
        "            correct_confidences = y_pred_clipped[torch.arange(y_pred_clipped.size(0)), y_true]\n",
        "        elif len(y_true.size()) == 2:\n",
        "            correct_confidences = torch.sum(y_pred_clipped * y_true, dim=1)\n",
        "        return correct_confidences\n"
      ],
      "metadata": {
        "id": "1dzasgHv6sJJ"
      },
      "execution_count": 16,
      "outputs": []
    },
    {
      "cell_type": "code",
      "source": [
        "inputs = torch.rand(6, 4)\n",
        "class_targets = torch.tensor([[0,1,1]])\n",
        "y = torch.rand(6,3)\n",
        "inputs, y, class_targets"
      ],
      "metadata": {
        "colab": {
          "base_uri": "https://localhost:8080/"
        },
        "id": "1RM65M_agd0a",
        "outputId": "d6ee6af0-4f46-4c04-efad-76582d34f038"
      },
      "execution_count": 17,
      "outputs": [
        {
          "output_type": "execute_result",
          "data": {
            "text/plain": [
              "(tensor([[0.1547, 0.7998, 0.2275, 0.1648],\n",
              "         [0.1951, 0.2508, 0.7026, 0.2315],\n",
              "         [0.9953, 0.9252, 0.8318, 0.6914],\n",
              "         [0.5409, 0.8300, 0.8842, 0.4052],\n",
              "         [0.1934, 0.6670, 0.8213, 0.9419],\n",
              "         [0.9508, 0.1574, 0.8113, 0.9990]]),\n",
              " tensor([[0.4747, 0.7540, 0.1440],\n",
              "         [0.6050, 0.7086, 0.5753],\n",
              "         [0.3937, 0.2984, 0.0840],\n",
              "         [0.3311, 0.5787, 0.2605],\n",
              "         [0.9290, 0.5016, 0.6382],\n",
              "         [0.8727, 0.6090, 0.4122]]),\n",
              " tensor([[0, 1, 1]]))"
            ]
          },
          "metadata": {},
          "execution_count": 17
        }
      ]
    },
    {
      "cell_type": "code",
      "source": [
        "#initializing layers\n",
        "layer1 =  DenseLayer(4, 18)\n",
        "layer2 = DenseLayer(18,18)\n",
        "layer3 = DenseLayer(18,18)\n",
        "output_layer = DenseLayer(18, 3)"
      ],
      "metadata": {
        "id": "LOxXqeDy9tWP"
      },
      "execution_count": 18,
      "outputs": []
    },
    {
      "cell_type": "code",
      "source": [
        "#initializing activation functions\n",
        "relu = ActivationReLU()\n",
        "sigmoid = ActivationSigmoid()\n",
        "softmax = ActivationSoftmax()"
      ],
      "metadata": {
        "id": "NYZq8GJFg4mi"
      },
      "execution_count": 19,
      "outputs": []
    },
    {
      "cell_type": "code",
      "source": [
        "# inititializing loss function\n",
        "loss_function = Loss_CategoricalCrossentropy()"
      ],
      "metadata": {
        "id": "hTQVfJylg68C"
      },
      "execution_count": 20,
      "outputs": []
    },
    {
      "cell_type": "code",
      "source": [
        "# Training....\n",
        "X = layer1.forward(inputs)\n",
        "X = relu.forward(X)\n",
        "X = layer2.forward(X)\n",
        "X = relu.forward(X)\n",
        "X = layer3.forward(X)\n",
        "X = relu.forward(X)\n",
        "X = output_layer.forward(X)\n",
        "output = softmax.forward(X)\n",
        "output"
      ],
      "metadata": {
        "id": "SR4LasCN-ORq",
        "colab": {
          "base_uri": "https://localhost:8080/"
        },
        "outputId": "35b5862b-d476-463c-8d53-ce0918f1e498"
      },
      "execution_count": 21,
      "outputs": [
        {
          "output_type": "execute_result",
          "data": {
            "text/plain": [
              "tensor([[0.3333, 0.3333, 0.3333],\n",
              "        [0.3333, 0.3333, 0.3333],\n",
              "        [0.3333, 0.3333, 0.3333],\n",
              "        [0.3333, 0.3333, 0.3333],\n",
              "        [0.3333, 0.3333, 0.3333],\n",
              "        [0.3333, 0.3333, 0.3333]])"
            ]
          },
          "metadata": {},
          "execution_count": 21
        }
      ]
    },
    {
      "cell_type": "code",
      "source": [
        "loss = loss_function.calculate(output, y)\n",
        "accuracy = calculate_accuracy(output, class_targets)\n",
        "\n",
        "print(f\"loss: {loss}\")\n",
        "print(f\"accuracy: {accuracy}\")"
      ],
      "metadata": {
        "colab": {
          "base_uri": "https://localhost:8080/"
        },
        "id": "vTuzhO-2-laz",
        "outputId": "b1637428-1b37-4ebf-a42d-27fbd43767fd"
      },
      "execution_count": 22,
      "outputs": [
        {
          "output_type": "stream",
          "name": "stdout",
          "text": [
            "loss: 0.7282438278198242\n",
            "accuracy: 0.0\n"
          ]
        }
      ]
    }
  ]
}